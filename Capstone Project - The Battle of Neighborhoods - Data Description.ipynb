{
 "cells": [
  {
   "cell_type": "code",
   "execution_count": 15,
   "metadata": {},
   "outputs": [
    {
     "name": "stdout",
     "output_type": "stream",
     "text": [
      "Data Link: https://en.wikipedia.org/wiki/List_of_postal_codes_of_Canada:_M\n",
      "Scarborough dataset: scrapped from wikipedia. Dataset consisting of latitude and longitude, zip codes.\n"
     ]
    }
   ],
   "source": [
    "print(\"Data Link: https://en.wikipedia.org/wiki/List_of_postal_codes_of_Canada:_M\")\n",
    "print(\"Scarborough dataset: scrapped from wikipedia. Dataset consisting of latitude and longitude, zip codes.\")"
   ]
  },
  {
   "cell_type": "code",
   "execution_count": 16,
   "metadata": {},
   "outputs": [
    {
     "name": "stdout",
     "output_type": "stream",
     "text": [
      "We will need data about different venues in different neighborhoods of that specific borough. In order to gain that information we will use Foursquare locational information. Foursquare is a location data provider with information about all manner of venues and events within an area of interest. Such information includes venue names, locations, menus and even photos. As such, the foursquare location platform will be used as the sole data source since all the stated required information can be obtained through the API.\n"
     ]
    }
   ],
   "source": [
    "print(\"We will need data about different venues in different neighborhoods of that specific borough. In order to gain that information we will use Foursquare locational information. Foursquare is a location data provider with information about all manner of venues and events within an area of interest. Such information includes venue names, locations, menus and even photos. As such, the foursquare location platform will be used as the sole data source since all the stated required information can be obtained through the API.\")\n"
   ]
  }
 ],
 "metadata": {
  "kernelspec": {
   "display_name": "Python 3",
   "language": "python",
   "name": "python3"
  },
  "language_info": {
   "codemirror_mode": {
    "name": "ipython",
    "version": 3
   },
   "file_extension": ".py",
   "mimetype": "text/x-python",
   "name": "python",
   "nbconvert_exporter": "python",
   "pygments_lexer": "ipython3",
   "version": "3.7.6"
  }
 },
 "nbformat": 4,
 "nbformat_minor": 4
}
